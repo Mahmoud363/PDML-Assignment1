{
  "nbformat": 4,
  "nbformat_minor": 0,
  "metadata": {
    "colab": {
      "name": "LLS.ipynb",
      "provenance": [],
      "collapsed_sections": []
    },
    "kernelspec": {
      "name": "python3",
      "display_name": "Python 3"
    },
    "accelerator": "GPU"
  },
  "cells": [
    {
      "cell_type": "markdown",
      "metadata": {
        "id": "drMXf_oob6Lm"
      },
      "source": [
        "# **Download the needed dataset**"
      ]
    },
    {
      "cell_type": "code",
      "metadata": {
        "id": "j4BtsNe0dmEC",
        "outputId": "10f5175d-18d7-448e-c3be-15f468d38d92",
        "colab": {
          "base_uri": "https://localhost:8080/",
          "height": 204
        }
      },
      "source": [
        "!wget http://archive.ics.uci.edu/ml/machine-learning-databases/00294/CCPP.zip"
      ],
      "execution_count": 1,
      "outputs": [
        {
          "output_type": "stream",
          "text": [
            "--2020-10-03 22:32:24--  http://archive.ics.uci.edu/ml/machine-learning-databases/00294/CCPP.zip\n",
            "Resolving archive.ics.uci.edu (archive.ics.uci.edu)... 128.195.10.252\n",
            "Connecting to archive.ics.uci.edu (archive.ics.uci.edu)|128.195.10.252|:80... connected.\n",
            "HTTP request sent, awaiting response... 200 OK\n",
            "Length: 3674852 (3.5M) [application/x-httpd-php]\n",
            "Saving to: ‘CCPP.zip.2’\n",
            "\n",
            "CCPP.zip.2          100%[===================>]   3.50M  2.48MB/s    in 1.4s    \n",
            "\n",
            "2020-10-03 22:32:26 (2.48 MB/s) - ‘CCPP.zip.2’ saved [3674852/3674852]\n",
            "\n"
          ],
          "name": "stdout"
        }
      ]
    },
    {
      "cell_type": "code",
      "metadata": {
        "id": "DTcnzIvAeEqn",
        "outputId": "8814d6ce-018c-4495-ae73-b8d2b332b4d4",
        "colab": {
          "base_uri": "https://localhost:8080/",
          "height": 34
        }
      },
      "source": [
        "!ls"
      ],
      "execution_count": 2,
      "outputs": [
        {
          "output_type": "stream",
          "text": [
            "CCPP  CCPP.zip\tCCPP.zip.1  CCPP.zip.2\tsample_data\n"
          ],
          "name": "stdout"
        }
      ]
    },
    {
      "cell_type": "markdown",
      "metadata": {
        "id": "wfO9Dc9cYJ2n"
      },
      "source": [
        ""
      ]
    },
    {
      "cell_type": "code",
      "metadata": {
        "id": "m2DRv6N_eH6b",
        "outputId": "dd567e8f-a9c4-47ed-85b7-2f39ede04a4a",
        "colab": {
          "base_uri": "https://localhost:8080/",
          "height": 51
        }
      },
      "source": [
        "!unzip CCPP.zip"
      ],
      "execution_count": 3,
      "outputs": [
        {
          "output_type": "stream",
          "text": [
            "Archive:  CCPP.zip\n",
            "replace CCPP/Folds5x2_pp.ods? [y]es, [n]o, [A]ll, [N]one, [r]ename: N\n"
          ],
          "name": "stdout"
        }
      ]
    },
    {
      "cell_type": "markdown",
      "metadata": {
        "id": "qt3_xizIcAzy"
      },
      "source": [
        "# **Preprocess the data**"
      ]
    },
    {
      "cell_type": "code",
      "metadata": {
        "id": "O8rMBVmqdfHS"
      },
      "source": [
        "import pandas as pd\n",
        "import numpy as np\n",
        "import cupy as cp\n",
        "import itertools\n",
        "import operator\n",
        "import matplotlib.pyplot as plt\n"
      ],
      "execution_count": 4,
      "outputs": []
    },
    {
      "cell_type": "code",
      "metadata": {
        "id": "L-uTB9xYSJj0",
        "outputId": "4540d669-8df9-4cfe-be41-4101ccce9757",
        "colab": {
          "base_uri": "https://localhost:8080/",
          "height": 255
        }
      },
      "source": [
        "path = 'CCPP/Folds5x2_pp.xlsx'\n",
        "training_data_x = pd.read_excel(path)\n",
        "X_data = cp.array(training_data_x[['V']].to_numpy())\n",
        "Y_data = cp.array(training_data_x[['PE']].to_numpy())\n",
        "print(X_data)\n",
        "print(Y_data)\n"
      ],
      "execution_count": 5,
      "outputs": [
        {
          "output_type": "stream",
          "text": [
            "[[41.76]\n",
            " [62.96]\n",
            " [39.4 ]\n",
            " ...\n",
            " [74.33]\n",
            " [69.45]\n",
            " [62.52]]\n",
            "[[463.26]\n",
            " [444.37]\n",
            " [488.56]\n",
            " ...\n",
            " [429.57]\n",
            " [435.74]\n",
            " [453.28]]\n"
          ],
          "name": "stdout"
        }
      ]
    },
    {
      "cell_type": "code",
      "metadata": {
        "id": "AbItUFbuYibp"
      },
      "source": [
        "X_train = X_data\n",
        "Y_train = Y_data"
      ],
      "execution_count": 6,
      "outputs": []
    },
    {
      "cell_type": "code",
      "metadata": {
        "id": "enQE4A1Ge4KI"
      },
      "source": [
        "# recieves the values of the input, output and the order \"n\" of the polynomial\n",
        "def generate_system(x, y, n, lamb): \n",
        "  N = x.shape[0]\n",
        "  X = cp.c_[np.ones(N),x]\n",
        "  #generate all possible products of the input features to generate the needed matrix\n",
        "  if n>1:\n",
        "    col_indeces = list(range(x.shape[1]))\n",
        "    indeces = []\n",
        "    for i in range(2,n+1):\n",
        "      indeces.extend(list(itertools.combinations_with_replacement(col_indeces,i)))\n",
        "\n",
        "    for index in indeces:\n",
        "      prod = x[:,index[0]]\n",
        "      for col in index[1:]:\n",
        "        prod = prod * x[:,col]\n",
        "      X = cp.c_[X,prod]\n",
        "  #compute the normal equation\n",
        "  w = cp.dot(np.transpose(X), X)\n",
        "  #the identity matrix is used for the L1 regularization\n",
        "  w = w + lamb * cp.identity(X.shape[1])\n",
        "  w = cp.linalg.inv(w)\n",
        "  w = cp.dot(w,cp.transpose(X))\n",
        "  w = cp.dot(w,y)\n",
        "  cp.cuda.Stream.null.synchronize()\n",
        "  return cp.asnumpy(w)"
      ],
      "execution_count": 7,
      "outputs": []
    },
    {
      "cell_type": "code",
      "metadata": {
        "id": "0-Z337wbe55r"
      },
      "source": [
        "# returns the summation of the erros\n",
        "def calc_error(y, fn):\n",
        "    return np.sum(np.square(y - fn))"
      ],
      "execution_count": 8,
      "outputs": []
    },
    {
      "cell_type": "code",
      "metadata": {
        "id": "s_QEr482e8H8"
      },
      "source": [
        "#returns the RMSE of the datapoints\n",
        "def RMSE(y, fn, N):\n",
        "    return np.sqrt(calc_error(y, fn)/N)"
      ],
      "execution_count": 9,
      "outputs": []
    },
    {
      "cell_type": "code",
      "metadata": {
        "id": "7-S97rHGfEku"
      },
      "source": [
        "#Computes the new value given the weights\n",
        "def predict(x, w, n =1):\n",
        "    X = cp.c_[cp.ones(x.shape[0]),x]\n",
        "      #generate all possible products of the input features to generate the needed matrix\n",
        "    if n>1:\n",
        "      col_indeces = list(range(x.shape[1]))\n",
        "      indeces = []\n",
        "      for i in range(2,n+1):\n",
        "        indeces.extend(list(itertools.combinations_with_replacement(col_indeces,i)))\n",
        "      for index in indeces:\n",
        "        prod = x[:,index[0]]\n",
        "        for col in index[1:]:\n",
        "          prod = prod * x[:,col]\n",
        "        X = cp.c_[X,prod]\n",
        "    #compute the prediction\n",
        "    y = cp.dot(X,w)\n",
        "    cp.cuda.Stream.null.synchronize()\n",
        "    return y"
      ],
      "execution_count": 10,
      "outputs": []
    },
    {
      "cell_type": "code",
      "metadata": {
        "id": "5DjJ5vrFfHdA"
      },
      "source": [
        "def train(x, y, n=1, lamb = 0):\n",
        "    w =  generate_system(x, y, n, lamb)\n",
        "    return w"
      ],
      "execution_count": 11,
      "outputs": []
    },
    {
      "cell_type": "code",
      "metadata": {
        "id": "nKIF5v6sfI1z",
        "outputId": "e94c0005-12e5-4e6b-e9dd-b710a038d775",
        "colab": {
          "base_uri": "https://localhost:8080/",
          "height": 51
        }
      },
      "source": [
        "#generate the 5 folds for the data\n",
        "folds = 5\n",
        "fold_size = int(X_train.shape[0]/folds)\n",
        "X_train_folded = []\n",
        "Y_train_folded = []\n",
        "\n",
        "#normalize the data\n",
        "X_train = (X_train-cp.min(X_train, axis=0))/(cp.max(X_train, axis=0)-cp.min(X_train, axis=0))\n",
        "Y_train = (Y_train-cp.min(Y_train))/(cp.max(Y_train)-cp.min(Y_train))\n",
        "\n",
        "\n",
        "for x in range(5):\n",
        "    X_train_folded.append(X_train[fold_size*x:fold_size*(x+1)])\n",
        "    Y_train_folded.append(Y_train[fold_size*x:fold_size*(x+1)])\n",
        "    \n",
        "X_train_folded = cp.asarray(X_train_folded)\n",
        "Y_train_folded = cp.asarray(Y_train_folded)\n",
        "\n",
        "print(X_train_folded.shape)\n",
        "print(Y_train_folded.shape)"
      ],
      "execution_count": 12,
      "outputs": [
        {
          "output_type": "stream",
          "text": [
            "(5, 1913, 1)\n",
            "(5, 1913, 1)\n"
          ],
          "name": "stdout"
        }
      ]
    },
    {
      "cell_type": "code",
      "metadata": {
        "id": "VQgzTVItfKs_",
        "outputId": "7a59785d-9edd-46e9-8a24-5d9d6169dee0",
        "colab": {
          "base_uri": "https://localhost:8080/",
          "height": 1000
        }
      },
      "source": [
        "max_deg = 20\n",
        "errors_validation = {}\n",
        "errors_train = {}\n",
        "\n",
        "\n",
        "# 5 folds cross validation\n",
        "for deg in range(1,max_deg+1):\n",
        "    errors_validation[deg] = []\n",
        "    errors_train[deg] = []\n",
        "\n",
        "    for f in range(5):\n",
        "        #get the training data \n",
        "        x_train_model = cp.concatenate( [X_train_folded[i] for i in range(5) if (i != f) ])\n",
        "        y_train_model = cp.concatenate( [Y_train_folded[i] for i in range(5) if (i != f)] )\n",
        "        # get the validation data\n",
        "        x_val_model = cp.concatenate( [X_train_folded[i] for i in range(5) if (i == f) ])\n",
        "        y_val_model = cp.concatenate( [Y_train_folded[i] for i in range(5) if (i == f)] )\n",
        "        #compute the weights\n",
        "        weights = cp.array(train(x_train_model, y_train_model, deg, 0.5) )\n",
        "        # predict the values for the training and the validation data\n",
        "        pred_val = predict(x_val_model, weights,deg)\n",
        "        pred_train = predict(x_train_model, weights,deg)\n",
        "        #compute the RMSE of each prediction\n",
        "        err_val = RMSE(y_val_model, pred_val, y_val_model.shape[0])\n",
        "        err_train = RMSE(y_train_model, pred_train, y_train_model.shape[0])\n",
        "        #save the error for the analysis\n",
        "        errors_validation[deg].append(cp.asnumpy(err_val))\n",
        "        errors_train[deg].append(cp.asnumpy(err_train))\n",
        "\n",
        "        print ('For validation, got RMSE= %f for deg %d and fold %d: ' % ( err_val, deg, f+1))\n",
        "        print ('For testing, got RMSE= %f for deg %d and fold %d: \\n' % ( err_train, deg, f+1))\n"
      ],
      "execution_count": 13,
      "outputs": [
        {
          "output_type": "stream",
          "text": [
            "For validation, got RMSE= 0.111820 for deg 1 and fold 1: \n",
            "For testing, got RMSE= 0.111482 for deg 1 and fold 1: \n",
            "\n",
            "For validation, got RMSE= 0.112816 for deg 1 and fold 2: \n",
            "For testing, got RMSE= 0.111230 for deg 1 and fold 2: \n",
            "\n",
            "For validation, got RMSE= 0.111620 for deg 1 and fold 3: \n",
            "For testing, got RMSE= 0.111536 for deg 1 and fold 3: \n",
            "\n",
            "For validation, got RMSE= 0.111827 for deg 1 and fold 4: \n",
            "For testing, got RMSE= 0.111480 for deg 1 and fold 4: \n",
            "\n",
            "For validation, got RMSE= 0.109674 for deg 1 and fold 5: \n",
            "For testing, got RMSE= 0.112014 for deg 1 and fold 5: \n",
            "\n",
            "For validation, got RMSE= 0.106843 for deg 2 and fold 1: \n",
            "For testing, got RMSE= 0.107553 for deg 2 and fold 1: \n",
            "\n",
            "For validation, got RMSE= 0.109397 for deg 2 and fold 2: \n",
            "For testing, got RMSE= 0.106805 for deg 2 and fold 2: \n",
            "\n",
            "For validation, got RMSE= 0.107403 for deg 2 and fold 3: \n",
            "For testing, got RMSE= 0.107354 for deg 2 and fold 3: \n",
            "\n",
            "For validation, got RMSE= 0.108046 for deg 2 and fold 4: \n",
            "For testing, got RMSE= 0.107171 for deg 2 and fold 4: \n",
            "\n",
            "For validation, got RMSE= 0.105197 for deg 2 and fold 5: \n",
            "For testing, got RMSE= 0.107915 for deg 2 and fold 5: \n",
            "\n",
            "For validation, got RMSE= 0.106950 for deg 3 and fold 1: \n",
            "For testing, got RMSE= 0.107385 for deg 3 and fold 1: \n",
            "\n",
            "For validation, got RMSE= 0.109086 for deg 3 and fold 2: \n",
            "For testing, got RMSE= 0.106788 for deg 3 and fold 2: \n",
            "\n",
            "For validation, got RMSE= 0.107413 for deg 3 and fold 3: \n",
            "For testing, got RMSE= 0.107236 for deg 3 and fold 3: \n",
            "\n",
            "For validation, got RMSE= 0.107901 for deg 3 and fold 4: \n",
            "For testing, got RMSE= 0.107102 for deg 3 and fold 4: \n",
            "\n",
            "For validation, got RMSE= 0.105093 for deg 3 and fold 5: \n",
            "For testing, got RMSE= 0.107817 for deg 3 and fold 5: \n",
            "\n",
            "For validation, got RMSE= 0.107066 for deg 4 and fold 1: \n",
            "For testing, got RMSE= 0.107443 for deg 4 and fold 1: \n",
            "\n",
            "For validation, got RMSE= 0.109101 for deg 4 and fold 2: \n",
            "For testing, got RMSE= 0.106822 for deg 4 and fold 2: \n",
            "\n",
            "For validation, got RMSE= 0.107472 for deg 4 and fold 3: \n",
            "For testing, got RMSE= 0.107285 for deg 4 and fold 3: \n",
            "\n",
            "For validation, got RMSE= 0.107929 for deg 4 and fold 4: \n",
            "For testing, got RMSE= 0.107142 for deg 4 and fold 4: \n",
            "\n",
            "For validation, got RMSE= 0.105127 for deg 4 and fold 5: \n",
            "For testing, got RMSE= 0.107858 for deg 4 and fold 5: \n",
            "\n",
            "For validation, got RMSE= 0.106921 for deg 5 and fold 1: \n",
            "For testing, got RMSE= 0.107350 for deg 5 and fold 1: \n",
            "\n",
            "For validation, got RMSE= 0.108999 for deg 5 and fold 2: \n",
            "For testing, got RMSE= 0.106712 for deg 5 and fold 2: \n",
            "\n",
            "For validation, got RMSE= 0.107357 for deg 5 and fold 3: \n",
            "For testing, got RMSE= 0.107170 for deg 5 and fold 3: \n",
            "\n",
            "For validation, got RMSE= 0.107834 for deg 5 and fold 4: \n",
            "For testing, got RMSE= 0.107021 for deg 5 and fold 4: \n",
            "\n",
            "For validation, got RMSE= 0.105034 for deg 5 and fold 5: \n",
            "For testing, got RMSE= 0.107733 for deg 5 and fold 5: \n",
            "\n",
            "For validation, got RMSE= 0.106806 for deg 6 and fold 1: \n",
            "For testing, got RMSE= 0.107270 for deg 6 and fold 1: \n",
            "\n",
            "For validation, got RMSE= 0.108900 for deg 6 and fold 2: \n",
            "For testing, got RMSE= 0.106647 for deg 6 and fold 2: \n",
            "\n",
            "For validation, got RMSE= 0.107281 for deg 6 and fold 3: \n",
            "For testing, got RMSE= 0.107081 for deg 6 and fold 3: \n",
            "\n",
            "For validation, got RMSE= 0.107767 for deg 6 and fold 4: \n",
            "For testing, got RMSE= 0.106937 for deg 6 and fold 4: \n",
            "\n",
            "For validation, got RMSE= 0.104984 for deg 6 and fold 5: \n",
            "For testing, got RMSE= 0.107639 for deg 6 and fold 5: \n",
            "\n",
            "For validation, got RMSE= 0.106787 for deg 7 and fold 1: \n",
            "For testing, got RMSE= 0.107254 for deg 7 and fold 1: \n",
            "\n",
            "For validation, got RMSE= 0.108861 for deg 7 and fold 2: \n",
            "For testing, got RMSE= 0.106646 for deg 7 and fold 2: \n",
            "\n",
            "For validation, got RMSE= 0.107281 for deg 7 and fold 3: \n",
            "For testing, got RMSE= 0.107066 for deg 7 and fold 3: \n",
            "\n",
            "For validation, got RMSE= 0.107762 for deg 7 and fold 4: \n",
            "For testing, got RMSE= 0.106927 for deg 7 and fold 4: \n",
            "\n",
            "For validation, got RMSE= 0.104998 for deg 7 and fold 5: \n",
            "For testing, got RMSE= 0.107624 for deg 7 and fold 5: \n",
            "\n",
            "For validation, got RMSE= 0.106804 for deg 8 and fold 1: \n",
            "For testing, got RMSE= 0.107265 for deg 8 and fold 1: \n",
            "\n",
            "For validation, got RMSE= 0.108858 for deg 8 and fold 2: \n",
            "For testing, got RMSE= 0.106658 for deg 8 and fold 2: \n",
            "\n",
            "For validation, got RMSE= 0.107301 for deg 8 and fold 3: \n",
            "For testing, got RMSE= 0.107079 for deg 8 and fold 3: \n",
            "\n",
            "For validation, got RMSE= 0.107777 for deg 8 and fold 4: \n",
            "For testing, got RMSE= 0.106941 for deg 8 and fold 4: \n",
            "\n",
            "For validation, got RMSE= 0.105022 for deg 8 and fold 5: \n",
            "For testing, got RMSE= 0.107638 for deg 8 and fold 5: \n",
            "\n",
            "For validation, got RMSE= 0.106803 for deg 9 and fold 1: \n",
            "For testing, got RMSE= 0.107265 for deg 9 and fold 1: \n",
            "\n",
            "For validation, got RMSE= 0.108855 for deg 9 and fold 2: \n",
            "For testing, got RMSE= 0.106645 for deg 9 and fold 2: \n",
            "\n",
            "For validation, got RMSE= 0.107298 for deg 9 and fold 3: \n",
            "For testing, got RMSE= 0.107077 for deg 9 and fold 3: \n",
            "\n",
            "For validation, got RMSE= 0.107773 for deg 9 and fold 4: \n",
            "For testing, got RMSE= 0.106937 for deg 9 and fold 4: \n",
            "\n",
            "For validation, got RMSE= 0.105020 for deg 9 and fold 5: \n",
            "For testing, got RMSE= 0.107636 for deg 9 and fold 5: \n",
            "\n",
            "For validation, got RMSE= 0.106769 for deg 10 and fold 1: \n",
            "For testing, got RMSE= 0.107240 for deg 10 and fold 1: \n",
            "\n",
            "For validation, got RMSE= 0.108836 for deg 10 and fold 2: \n",
            "For testing, got RMSE= 0.106602 for deg 10 and fold 2: \n",
            "\n",
            "For validation, got RMSE= 0.107265 for deg 10 and fold 3: \n",
            "For testing, got RMSE= 0.107048 for deg 10 and fold 3: \n",
            "\n",
            "For validation, got RMSE= 0.107742 for deg 10 and fold 4: \n",
            "For testing, got RMSE= 0.106905 for deg 10 and fold 4: \n",
            "\n",
            "For validation, got RMSE= 0.104986 for deg 10 and fold 5: \n",
            "For testing, got RMSE= 0.107606 for deg 10 and fold 5: \n",
            "\n",
            "For validation, got RMSE= 0.106710 for deg 11 and fold 1: \n",
            "For testing, got RMSE= 0.107199 for deg 11 and fold 1: \n",
            "\n",
            "For validation, got RMSE= 0.108804 for deg 11 and fold 2: \n",
            "For testing, got RMSE= 0.106542 for deg 11 and fold 2: \n",
            "\n",
            "For validation, got RMSE= 0.107211 for deg 11 and fold 3: \n",
            "For testing, got RMSE= 0.106999 for deg 11 and fold 3: \n",
            "\n",
            "For validation, got RMSE= 0.107692 for deg 11 and fold 4: \n",
            "For testing, got RMSE= 0.106854 for deg 11 and fold 4: \n",
            "\n",
            "For validation, got RMSE= 0.104934 for deg 11 and fold 5: \n",
            "For testing, got RMSE= 0.107555 for deg 11 and fold 5: \n",
            "\n",
            "For validation, got RMSE= 0.106643 for deg 12 and fold 1: \n",
            "For testing, got RMSE= 0.107152 for deg 12 and fold 1: \n",
            "\n",
            "For validation, got RMSE= 0.108768 for deg 12 and fold 2: \n",
            "For testing, got RMSE= 0.106480 for deg 12 and fold 2: \n",
            "\n",
            "For validation, got RMSE= 0.107152 for deg 12 and fold 3: \n",
            "For testing, got RMSE= 0.106943 for deg 12 and fold 3: \n",
            "\n",
            "For validation, got RMSE= 0.107638 for deg 12 and fold 4: \n",
            "For testing, got RMSE= 0.106798 for deg 12 and fold 4: \n",
            "\n",
            "For validation, got RMSE= 0.104880 for deg 12 and fold 5: \n",
            "For testing, got RMSE= 0.107498 for deg 12 and fold 5: \n",
            "\n",
            "For validation, got RMSE= 0.106582 for deg 13 and fold 1: \n",
            "For testing, got RMSE= 0.107110 for deg 13 and fold 1: \n",
            "\n",
            "For validation, got RMSE= 0.108736 for deg 13 and fold 2: \n",
            "For testing, got RMSE= 0.106429 for deg 13 and fold 2: \n",
            "\n",
            "For validation, got RMSE= 0.107102 for deg 13 and fold 3: \n",
            "For testing, got RMSE= 0.106893 for deg 13 and fold 3: \n",
            "\n",
            "For validation, got RMSE= 0.107591 for deg 13 and fold 4: \n",
            "For testing, got RMSE= 0.106750 for deg 13 and fold 4: \n",
            "\n",
            "For validation, got RMSE= 0.104833 for deg 13 and fold 5: \n",
            "For testing, got RMSE= 0.107448 for deg 13 and fold 5: \n",
            "\n",
            "For validation, got RMSE= 0.106533 for deg 14 and fold 1: \n",
            "For testing, got RMSE= 0.107078 for deg 14 and fold 1: \n",
            "\n",
            "For validation, got RMSE= 0.108712 for deg 14 and fold 2: \n",
            "For testing, got RMSE= 0.106391 for deg 14 and fold 2: \n",
            "\n",
            "For validation, got RMSE= 0.107066 for deg 14 and fold 3: \n",
            "For testing, got RMSE= 0.106854 for deg 14 and fold 3: \n",
            "\n",
            "For validation, got RMSE= 0.107556 for deg 14 and fold 4: \n",
            "For testing, got RMSE= 0.106715 for deg 14 and fold 4: \n",
            "\n",
            "For validation, got RMSE= 0.104800 for deg 14 and fold 5: \n",
            "For testing, got RMSE= 0.107411 for deg 14 and fold 5: \n",
            "\n",
            "For validation, got RMSE= 0.106500 for deg 15 and fold 1: \n",
            "For testing, got RMSE= 0.107057 for deg 15 and fold 1: \n",
            "\n",
            "For validation, got RMSE= 0.108697 for deg 15 and fold 2: \n",
            "For testing, got RMSE= 0.106368 for deg 15 and fold 2: \n",
            "\n",
            "For validation, got RMSE= 0.107044 for deg 15 and fold 3: \n",
            "For testing, got RMSE= 0.106828 for deg 15 and fold 3: \n",
            "\n",
            "For validation, got RMSE= 0.107533 for deg 15 and fold 4: \n",
            "For testing, got RMSE= 0.106692 for deg 15 and fold 4: \n",
            "\n",
            "For validation, got RMSE= 0.104781 for deg 15 and fold 5: \n",
            "For testing, got RMSE= 0.107386 for deg 15 and fold 5: \n",
            "\n",
            "For validation, got RMSE= 0.106480 for deg 16 and fold 1: \n",
            "For testing, got RMSE= 0.107046 for deg 16 and fold 1: \n",
            "\n",
            "For validation, got RMSE= 0.108690 for deg 16 and fold 2: \n",
            "For testing, got RMSE= 0.106357 for deg 16 and fold 2: \n",
            "\n",
            "For validation, got RMSE= 0.107035 for deg 16 and fold 3: \n",
            "For testing, got RMSE= 0.106813 for deg 16 and fold 3: \n",
            "\n",
            "For validation, got RMSE= 0.107521 for deg 16 and fold 4: \n",
            "For testing, got RMSE= 0.106681 for deg 16 and fold 4: \n",
            "\n",
            "For validation, got RMSE= 0.104772 for deg 16 and fold 5: \n",
            "For testing, got RMSE= 0.107374 for deg 16 and fold 5: \n",
            "\n",
            "For validation, got RMSE= 0.106471 for deg 17 and fold 1: \n",
            "For testing, got RMSE= 0.107043 for deg 17 and fold 1: \n",
            "\n",
            "For validation, got RMSE= 0.108689 for deg 17 and fold 2: \n",
            "For testing, got RMSE= 0.106354 for deg 17 and fold 2: \n",
            "\n",
            "For validation, got RMSE= 0.107035 for deg 17 and fold 3: \n",
            "For testing, got RMSE= 0.106807 for deg 17 and fold 3: \n",
            "\n",
            "For validation, got RMSE= 0.107516 for deg 17 and fold 4: \n",
            "For testing, got RMSE= 0.106678 for deg 17 and fold 4: \n",
            "\n",
            "For validation, got RMSE= 0.104771 for deg 17 and fold 5: \n",
            "For testing, got RMSE= 0.107370 for deg 17 and fold 5: \n",
            "\n",
            "For validation, got RMSE= 0.106468 for deg 18 and fold 1: \n",
            "For testing, got RMSE= 0.107043 for deg 18 and fold 1: \n",
            "\n",
            "For validation, got RMSE= 0.108691 for deg 18 and fold 2: \n",
            "For testing, got RMSE= 0.106356 for deg 18 and fold 2: \n",
            "\n",
            "For validation, got RMSE= 0.107040 for deg 18 and fold 3: \n",
            "For testing, got RMSE= 0.106806 for deg 18 and fold 3: \n",
            "\n",
            "For validation, got RMSE= 0.107517 for deg 18 and fold 4: \n",
            "For testing, got RMSE= 0.106679 for deg 18 and fold 4: \n",
            "\n",
            "For validation, got RMSE= 0.104774 for deg 18 and fold 5: \n",
            "For testing, got RMSE= 0.107370 for deg 18 and fold 5: \n",
            "\n",
            "For validation, got RMSE= 0.106468 for deg 19 and fold 1: \n",
            "For testing, got RMSE= 0.107046 for deg 19 and fold 1: \n",
            "\n",
            "For validation, got RMSE= 0.108694 for deg 19 and fold 2: \n",
            "For testing, got RMSE= 0.106359 for deg 19 and fold 2: \n",
            "\n",
            "For validation, got RMSE= 0.107046 for deg 19 and fold 3: \n",
            "For testing, got RMSE= 0.106808 for deg 19 and fold 3: \n",
            "\n",
            "For validation, got RMSE= 0.107519 for deg 19 and fold 4: \n",
            "For testing, got RMSE= 0.106682 for deg 19 and fold 4: \n",
            "\n",
            "For validation, got RMSE= 0.104778 for deg 19 and fold 5: \n",
            "For testing, got RMSE= 0.107373 for deg 19 and fold 5: \n",
            "\n",
            "For validation, got RMSE= 0.106470 for deg 20 and fold 1: \n",
            "For testing, got RMSE= 0.107047 for deg 20 and fold 1: \n",
            "\n",
            "For validation, got RMSE= 0.108696 for deg 20 and fold 2: \n",
            "For testing, got RMSE= 0.106361 for deg 20 and fold 2: \n",
            "\n",
            "For validation, got RMSE= 0.107051 for deg 20 and fold 3: \n",
            "For testing, got RMSE= 0.106810 for deg 20 and fold 3: \n",
            "\n",
            "For validation, got RMSE= 0.107520 for deg 20 and fold 4: \n",
            "For testing, got RMSE= 0.106684 for deg 20 and fold 4: \n",
            "\n",
            "For validation, got RMSE= 0.104781 for deg 20 and fold 5: \n",
            "For testing, got RMSE= 0.107376 for deg 20 and fold 5: \n",
            "\n"
          ],
          "name": "stdout"
        }
      ]
    },
    {
      "cell_type": "code",
      "metadata": {
        "id": "8lhztCdLnJ-D"
      },
      "source": [
        "\n",
        "#create the analysis for the errors obtained\n",
        "def generate_analysis(errors):\n",
        "  analysis = {}\n",
        "  for k in errors:\n",
        "      if k:\n",
        "          tmp = np.array(errors[k])\n",
        "          analysis[k] = ( np.average(tmp), np.std(tmp) )\n",
        "  return analysis"
      ],
      "execution_count": 14,
      "outputs": []
    },
    {
      "cell_type": "code",
      "metadata": {
        "id": "pvhpM-s5otxm",
        "outputId": "15f8704e-a020-412f-e585-028665b4c785",
        "colab": {
          "base_uri": "https://localhost:8080/",
          "height": 357
        }
      },
      "source": [
        "validation_analysis = generate_analysis(errors_validation)\n",
        "validation_analysis"
      ],
      "execution_count": 15,
      "outputs": [
        {
          "output_type": "execute_result",
          "data": {
            "text/plain": [
              "{1: (0.11155135811753514, 0.0010273857079358705),\n",
              " 2: (0.10737718104959766, 0.0013831137399646614),\n",
              " 3: (0.10728853751297791, 0.0013082958133404199),\n",
              " 4: (0.10733901763168177, 0.0012990924504699246),\n",
              " 5: (0.10722895965714471, 0.0012984407561124917),\n",
              " 6: (0.10714760133461196, 0.0012859517679588456),\n",
              " 7: (0.10713773234342214, 0.0012715613678764394),\n",
              " 8: (0.10715223199947319, 0.0012635774565638205),\n",
              " 9: (0.10714982990572137, 0.0012630220963372124),\n",
              " 10: (0.10711953751405923, 0.0012672462123836847),\n",
              " 11: (0.10707030333088215, 0.0012732495343255787),\n",
              " 12: (0.10701633399440753, 0.0012790054995215198),\n",
              " 13: (0.10696874640762073, 0.0012835528131032992),\n",
              " 14: (0.1069332265480097, 0.0012866677078852402),\n",
              " 15: (0.10691080575360194, 0.0012885182853779444),\n",
              " 16: (0.10689958997228599, 0.0012894215023849997),\n",
              " 17: (0.10689637513029711, 0.0012897050671012284),\n",
              " 18: (0.10689778906987994, 0.0012896440135378101),\n",
              " 19: (0.10690094344758347, 0.0012894416769899395),\n",
              " 20: (0.10690370705834132, 0.0012892332316229037)}"
            ]
          },
          "metadata": {
            "tags": []
          },
          "execution_count": 15
        }
      ]
    },
    {
      "cell_type": "code",
      "metadata": {
        "id": "ZPetjf5DfS7L",
        "outputId": "156c535e-8ccd-46f0-fe0b-c665a592a2cd",
        "colab": {
          "base_uri": "https://localhost:8080/",
          "height": 357
        }
      },
      "source": [
        "training_analysis = generate_analysis(errors_train)\n",
        "training_analysis"
      ],
      "execution_count": 16,
      "outputs": [
        {
          "output_type": "execute_result",
          "data": {
            "text/plain": [
              "{1: (0.11154848583501067, 0.0002558815549482593),\n",
              " 2: (0.10735967863953914, 0.00037147845904662424),\n",
              " 3: (0.10726566996970148, 0.00033874946046445135),\n",
              " 4: (0.10731015246404685, 0.00034218139184648397),\n",
              " 5: (0.10719735867866236, 0.0003396909833161574),\n",
              " 6: (0.10711472577710339, 0.00033181622497380084),\n",
              " 7: (0.10710347508091808, 0.0003271034048822275),\n",
              " 8: (0.1071162644854837, 0.00032752428462926763),\n",
              " 9: (0.10711207820036697, 0.0003310634884943117),\n",
              " 10: (0.10708016626077677, 0.0003353229074986081),\n",
              " 11: (0.10702957460953107, 0.00033885463199265903),\n",
              " 12: (0.1069744864172523, 0.0003411664789753486),\n",
              " 13: (0.10692593775288106, 0.0003423451583821024),\n",
              " 14: (0.1068895337777724, 0.00034270953562631106),\n",
              " 15: (0.10686625736446054, 0.0003425991731440523),\n",
              " 16: (0.10685420622516002, 0.0003422818866841397),\n",
              " 17: (0.10685020039464392, 0.00034193414908826757),\n",
              " 18: (0.1068509097069271, 0.00034165470541202853),\n",
              " 19: (0.1068534911699073, 0.0003414872060568097),\n",
              " 20: (0.10685585109571431, 0.0003414406907690668)}"
            ]
          },
          "metadata": {
            "tags": []
          },
          "execution_count": 16
        }
      ]
    },
    {
      "cell_type": "code",
      "metadata": {
        "id": "Eg3UC52cnugc"
      },
      "source": [
        "# return the best parameter in terms of the average error\n",
        "def get_best_param(analysis, th = 1.2):\n",
        "  sorted_accuracies = dict(sorted(analysis.items(), key= lambda item: (item[1][0],item[1],[1])))\n",
        "  best_deg  = min(analysis.items(), key=operator.itemgetter(1))[0]\n",
        "  return best_deg  \n",
        "best_deg = get_best_param(validation_analysis)"
      ],
      "execution_count": 17,
      "outputs": []
    },
    {
      "cell_type": "code",
      "metadata": {
        "id": "dJJpR36woTEm",
        "outputId": "436e3abe-62ae-4957-97e5-2649e2d5068b",
        "colab": {
          "base_uri": "https://localhost:8080/",
          "height": 34
        }
      },
      "source": [
        "best_deg"
      ],
      "execution_count": 18,
      "outputs": [
        {
          "output_type": "execute_result",
          "data": {
            "text/plain": [
              "17"
            ]
          },
          "metadata": {
            "tags": []
          },
          "execution_count": 18
        }
      ]
    },
    {
      "cell_type": "code",
      "metadata": {
        "id": "NhAdt1OXfNZM",
        "outputId": "ecfe0990-e0bd-4dda-b842-48dd3f898adb",
        "colab": {
          "base_uri": "https://localhost:8080/",
          "height": 295
        }
      },
      "source": [
        "x_values_val = []\n",
        "y_values_val = []\n",
        "x_values_test = []\n",
        "y_values_test = []\n",
        "\n",
        "# plot the raw observations\n",
        "for deg in range(1,max_deg+1):\n",
        "  if deg != best_deg:\n",
        "    x_values_val.append(deg)\n",
        "    y_values_val.append(validation_analysis[deg][0])\n",
        "    x_values_test.append(deg)\n",
        "    y_values_test.append(training_analysis[deg][0])\n",
        "\n",
        "plt.scatter(x_values_val, y_values_val, label = 'validation')\n",
        "plt.scatter(x_values_test, y_values_test, label = 'training')\n",
        "plt.scatter([best_deg]*2, [validation_analysis[best_deg][0], training_analysis[best_deg][0]], label='best degree',s = 50)\n",
        "\n",
        "# plot the trend line with error bars that correspond to standard deviation\n",
        "Mean_val = np.array([np.mean(value) for deg,value in sorted(errors_validation.items())])\n",
        "Mean_train = np.array([np.mean(value) for deg,value in sorted(errors_train.items())])\n",
        "\n",
        "plt.errorbar(list(range(1,max_deg+1)), Mean_val)\n",
        "plt.errorbar(list(range(1,max_deg+1)), Mean_train)\n",
        "\n",
        "plt.title('RMSE for feature V')\n",
        "plt.xlabel('Degrees')\n",
        "plt.ylabel('RMSE')\n",
        "plt.legend()\n",
        "plt.show()"
      ],
      "execution_count": 19,
      "outputs": [
        {
          "output_type": "display_data",
          "data": {
            "image/png": "[encoded data removed]",
            "text/plain": [
              "<Figure size 432x288 with 1 Axes>"
            ]
          },
          "metadata": {
            "tags": [],
            "needs_background": "light"
          }
        }
      ]
    },
    {
      "cell_type": "code",
      "metadata": {
        "id": "GoOkHR1Th9Lq"
      },
      "source": [
        "#generate all the possible subsets of the features indeces\n",
        "org_indeces = ['AT','V','RH','AP']\n",
        "indeces = []\n",
        "for i in range(1,5):\n",
        "  indeces.extend(list(itertools.combinations(org_indeces,i)))\n",
        "  \n",
        "index = {}\n",
        "for i,el in enumerate(indeces):\n",
        "  index[i] = el"
      ],
      "execution_count": 20,
      "outputs": []
    },
    {
      "cell_type": "code",
      "metadata": {
        "id": "4uh9VZxBca6K",
        "outputId": "2fd0ce10-dae3-47da-8358-c449b516bf96",
        "colab": {
          "base_uri": "https://localhost:8080/",
          "height": 1000
        }
      },
      "source": [
        "# compare all the possible subsets in terms of error for the linear case\n",
        "errors_multi_linear_val = {}\n",
        "errors_multi_linear_train = {}\n",
        "\n",
        "for idx in indeces:\n",
        "  indx = list(idx)\n",
        "  #read the data\n",
        "  X_data = training_data_x[indx].to_numpy()\n",
        "  Y_data = training_data_x['PE'].to_numpy()\n",
        "  X_train = cp.array(X_data)\n",
        "  Y_train = cp.array(Y_data)\n",
        "  #normalize the data\n",
        "  X_train = (X_train-cp.min(X_train, axis=0))/(cp.max(X_train, axis=0)-cp.min(X_train, axis=0))\n",
        "  Y_train = (Y_train-cp.min(Y_train))/(cp.max(Y_train)-cp.min(Y_train))\n",
        "  #generate the needed 5 folds\n",
        "  folds = 5\n",
        "  fold_size = int(X_train.shape[0]/folds)\n",
        "  X_train_folded = []\n",
        "  Y_train_folded = []\n",
        "\n",
        "  for x in range(5):\n",
        "      X_train_folded.append(X_train[fold_size*x:fold_size*(x+1)])\n",
        "      Y_train_folded.append(Y_train[fold_size*x:fold_size*(x+1)])\n",
        "      \n",
        "  X_train_folded = cp.asarray(X_train_folded)\n",
        "  Y_train_folded = cp.asarray(Y_train_folded)\n",
        "  \n",
        "  errors_multi_linear_val[idx] = []\n",
        "  errors_multi_linear_train[idx] = []\n",
        "  #run the 5 folds cross validation\n",
        "  for f in range(5):\n",
        "    x_train_model = np.concatenate( [X_train_folded[i] for i in range(5) if (i != f) ])\n",
        "    y_train_model = np.concatenate( [Y_train_folded[i] for i in range(5) if (i != f)] )\n",
        "    \n",
        "    x_val_model = np.concatenate( [X_train_folded[i] for i in range(5) if (i == f) ])\n",
        "    y_val_model = np.concatenate( [Y_train_folded[i] for i in range(5) if (i == f)] )\n",
        "    #calculate the weights\n",
        "    weights = train(x_train_model, y_train_model,lamb=0.5) # L1 parameter is 0.5\n",
        "    weights = cp.array(weights)\n",
        "    \n",
        "    pred_val = predict(x_val_model, weights,1)\n",
        "    pred_train = predict(x_train_model, weights,1)\n",
        "\n",
        "    err_val = RMSE(y_val_model, pred_val, y_val_model.shape[0])\n",
        "    err_train = RMSE(y_train_model, pred_train, y_train_model.shape[0])\n",
        "    errors_multi_linear_val[idx].append(cp.asnumpy(err_val))\n",
        "    errors_multi_linear_train[idx].append(cp.asnumpy(err_train))\n",
        "    print ('For validation, got RMSE= %f for fold %d: ' % ( err_val, f+1))\n",
        "    print ('For testing, got RMSE= %f for fold %d: \\n' % ( err_train, f+1))\n",
        "\n"
      ],
      "execution_count": 21,
      "outputs": [
        {
          "output_type": "stream",
          "text": [
            "For validation, got RMSE= 0.071106 for fold 1: \n",
            "For testing, got RMSE= 0.072050 for fold 1: \n",
            "\n",
            "For validation, got RMSE= 0.072476 for fold 2: \n",
            "For testing, got RMSE= 0.071704 for fold 2: \n",
            "\n",
            "For validation, got RMSE= 0.071144 for fold 3: \n",
            "For testing, got RMSE= 0.072040 for fold 3: \n",
            "\n",
            "For validation, got RMSE= 0.071815 for fold 4: \n",
            "For testing, got RMSE= 0.071872 for fold 4: \n",
            "\n",
            "For validation, got RMSE= 0.072812 for fold 5: \n",
            "For testing, got RMSE= 0.071617 for fold 5: \n",
            "\n",
            "For validation, got RMSE= 0.111820 for fold 1: \n",
            "For testing, got RMSE= 0.111482 for fold 1: \n",
            "\n",
            "For validation, got RMSE= 0.112816 for fold 2: \n",
            "For testing, got RMSE= 0.111230 for fold 2: \n",
            "\n",
            "For validation, got RMSE= 0.111620 for fold 3: \n",
            "For testing, got RMSE= 0.111536 for fold 3: \n",
            "\n",
            "For validation, got RMSE= 0.111827 for fold 4: \n",
            "For testing, got RMSE= 0.111480 for fold 4: \n",
            "\n",
            "For validation, got RMSE= 0.109674 for fold 5: \n",
            "For testing, got RMSE= 0.112014 for fold 5: \n",
            "\n",
            "For validation, got RMSE= 0.206681 for fold 1: \n",
            "For testing, got RMSE= 0.208569 for fold 1: \n",
            "\n",
            "For validation, got RMSE= 0.210394 for fold 2: \n",
            "For testing, got RMSE= 0.207630 for fold 2: \n",
            "\n",
            "For validation, got RMSE= 0.211753 for fold 3: \n",
            "For testing, got RMSE= 0.207283 for fold 3: \n",
            "\n",
            "For validation, got RMSE= 0.207071 for fold 4: \n",
            "For testing, got RMSE= 0.208461 for fold 4: \n",
            "\n",
            "For validation, got RMSE= 0.205127 for fold 5: \n",
            "For testing, got RMSE= 0.208950 for fold 5: \n",
            "\n",
            "For validation, got RMSE= 0.194756 for fold 1: \n",
            "For testing, got RMSE= 0.192917 for fold 1: \n",
            "\n",
            "For validation, got RMSE= 0.189851 for fold 2: \n",
            "For testing, got RMSE= 0.194141 for fold 2: \n",
            "\n",
            "For validation, got RMSE= 0.193975 for fold 3: \n",
            "For testing, got RMSE= 0.193107 for fold 3: \n",
            "\n",
            "For validation, got RMSE= 0.194550 for fold 4: \n",
            "For testing, got RMSE= 0.192956 for fold 4: \n",
            "\n",
            "For validation, got RMSE= 0.193515 for fold 5: \n",
            "For testing, got RMSE= 0.193215 for fold 5: \n",
            "\n",
            "For validation, got RMSE= 0.064861 for fold 1: \n",
            "For testing, got RMSE= 0.065816 for fold 1: \n",
            "\n",
            "For validation, got RMSE= 0.067063 for fold 2: \n",
            "For testing, got RMSE= 0.065260 for fold 2: \n",
            "\n",
            "For validation, got RMSE= 0.064363 for fold 3: \n",
            "For testing, got RMSE= 0.065935 for fold 3: \n",
            "\n",
            "For validation, got RMSE= 0.065672 for fold 4: \n",
            "For testing, got RMSE= 0.065611 for fold 4: \n",
            "\n",
            "For validation, got RMSE= 0.066183 for fold 5: \n",
            "For testing, got RMSE= 0.065480 for fold 5: \n",
            "\n",
            "For validation, got RMSE= 0.062020 for fold 1: \n",
            "For testing, got RMSE= 0.063945 for fold 1: \n",
            "\n",
            "For validation, got RMSE= 0.064015 for fold 2: \n",
            "For testing, got RMSE= 0.063439 for fold 2: \n",
            "\n",
            "For validation, got RMSE= 0.061686 for fold 3: \n",
            "For testing, got RMSE= 0.064021 for fold 3: \n",
            "\n",
            "For validation, got RMSE= 0.064638 for fold 4: \n",
            "For testing, got RMSE= 0.063279 for fold 4: \n",
            "\n",
            "For validation, got RMSE= 0.065461 for fold 5: \n",
            "For testing, got RMSE= 0.063064 for fold 5: \n",
            "\n",
            "For validation, got RMSE= 0.070483 for fold 1: \n",
            "For testing, got RMSE= 0.071376 for fold 1: \n",
            "\n",
            "For validation, got RMSE= 0.071375 for fold 2: \n",
            "For testing, got RMSE= 0.071148 for fold 2: \n",
            "\n",
            "For validation, got RMSE= 0.070911 for fold 3: \n",
            "For testing, got RMSE= 0.071276 for fold 3: \n",
            "\n",
            "For validation, got RMSE= 0.071098 for fold 4: \n",
            "For testing, got RMSE= 0.071220 for fold 4: \n",
            "\n",
            "For validation, got RMSE= 0.072240 for fold 5: \n",
            "For testing, got RMSE= 0.070930 for fold 5: \n",
            "\n",
            "For validation, got RMSE= 0.107806 for fold 1: \n",
            "For testing, got RMSE= 0.107974 for fold 1: \n",
            "\n",
            "For validation, got RMSE= 0.110185 for fold 2: \n",
            "For testing, got RMSE= 0.107377 for fold 2: \n",
            "\n",
            "For validation, got RMSE= 0.107771 for fold 3: \n",
            "For testing, got RMSE= 0.107986 for fold 3: \n",
            "\n",
            "For validation, got RMSE= 0.107905 for fold 4: \n",
            "For testing, got RMSE= 0.107949 for fold 4: \n",
            "\n",
            "For validation, got RMSE= 0.106054 for fold 5: \n",
            "For testing, got RMSE= 0.108406 for fold 5: \n",
            "\n",
            "For validation, got RMSE= 0.104925 for fold 1: \n",
            "For testing, got RMSE= 0.104213 for fold 1: \n",
            "\n",
            "For validation, got RMSE= 0.104593 for fold 2: \n",
            "For testing, got RMSE= 0.104296 for fold 2: \n",
            "\n",
            "For validation, got RMSE= 0.104885 for fold 3: \n",
            "For testing, got RMSE= 0.104222 for fold 3: \n",
            "\n",
            "For validation, got RMSE= 0.104526 for fold 4: \n",
            "For testing, got RMSE= 0.104311 for fold 4: \n",
            "\n",
            "For validation, got RMSE= 0.102905 for fold 5: \n",
            "For testing, got RMSE= 0.104714 for fold 5: \n",
            "\n",
            "For validation, got RMSE= 0.178896 for fold 1: \n",
            "For testing, got RMSE= 0.177014 for fold 1: \n",
            "\n",
            "For validation, got RMSE= 0.175062 for fold 2: \n",
            "For testing, got RMSE= 0.177979 for fold 2: \n",
            "\n",
            "For validation, got RMSE= 0.180867 for fold 3: \n",
            "For testing, got RMSE= 0.176510 for fold 3: \n",
            "\n",
            "For validation, got RMSE= 0.176679 for fold 4: \n",
            "For testing, got RMSE= 0.177559 for fold 4: \n",
            "\n",
            "For validation, got RMSE= 0.175752 for fold 5: \n",
            "For testing, got RMSE= 0.177793 for fold 5: \n",
            "\n",
            "For validation, got RMSE= 0.059276 for fold 1: \n",
            "For testing, got RMSE= 0.060818 for fold 1: \n",
            "\n",
            "For validation, got RMSE= 0.061467 for fold 2: \n",
            "For testing, got RMSE= 0.060266 for fold 2: \n",
            "\n",
            "For validation, got RMSE= 0.058648 for fold 3: \n",
            "For testing, got RMSE= 0.060963 for fold 3: \n",
            "\n",
            "For validation, got RMSE= 0.061364 for fold 4: \n",
            "For testing, got RMSE= 0.060280 for fold 4: \n",
            "\n",
            "For validation, got RMSE= 0.061817 for fold 5: \n",
            "For testing, got RMSE= 0.060161 for fold 5: \n",
            "\n",
            "For validation, got RMSE= 0.064013 for fold 1: \n",
            "For testing, got RMSE= 0.064931 for fold 1: \n",
            "\n",
            "For validation, got RMSE= 0.065738 for fold 2: \n",
            "For testing, got RMSE= 0.064495 for fold 2: \n",
            "\n",
            "For validation, got RMSE= 0.064004 for fold 3: \n",
            "For testing, got RMSE= 0.064938 for fold 3: \n",
            "\n",
            "For validation, got RMSE= 0.064701 for fold 4: \n",
            "For testing, got RMSE= 0.064755 for fold 4: \n",
            "\n",
            "For validation, got RMSE= 0.065382 for fold 5: \n",
            "For testing, got RMSE= 0.064582 for fold 5: \n",
            "\n",
            "For validation, got RMSE= 0.062014 for fold 1: \n",
            "For testing, got RMSE= 0.063927 for fold 1: \n",
            "\n",
            "For validation, got RMSE= 0.063921 for fold 2: \n",
            "For testing, got RMSE= 0.063435 for fold 2: \n",
            "\n",
            "For validation, got RMSE= 0.061798 for fold 3: \n",
            "For testing, got RMSE= 0.063985 for fold 3: \n",
            "\n",
            "For validation, got RMSE= 0.064608 for fold 4: \n",
            "For testing, got RMSE= 0.063264 for fold 4: \n",
            "\n",
            "For validation, got RMSE= 0.065454 for fold 5: \n",
            "For testing, got RMSE= 0.063044 for fold 5: \n",
            "\n",
            "For validation, got RMSE= 0.100361 for fold 1: \n",
            "For testing, got RMSE= 0.100034 for fold 1: \n",
            "\n",
            "For validation, got RMSE= 0.101068 for fold 2: \n",
            "For testing, got RMSE= 0.099860 for fold 2: \n",
            "\n",
            "For validation, got RMSE= 0.100860 for fold 3: \n",
            "For testing, got RMSE= 0.099909 for fold 3: \n",
            "\n",
            "For validation, got RMSE= 0.099679 for fold 4: \n",
            "For testing, got RMSE= 0.100200 for fold 4: \n",
            "\n",
            "For validation, got RMSE= 0.098616 for fold 5: \n",
            "For testing, got RMSE= 0.100463 for fold 5: \n",
            "\n",
            "For validation, got RMSE= 0.059167 for fold 1: \n",
            "For testing, got RMSE= 0.060682 for fold 1: \n",
            "\n",
            "For validation, got RMSE= 0.061180 for fold 2: \n",
            "For testing, got RMSE= 0.060168 for fold 2: \n",
            "\n",
            "For validation, got RMSE= 0.058766 for fold 3: \n",
            "For testing, got RMSE= 0.060785 for fold 3: \n",
            "\n",
            "For validation, got RMSE= 0.061186 for fold 4: \n",
            "For testing, got RMSE= 0.060159 for fold 4: \n",
            "\n",
            "For validation, got RMSE= 0.061687 for fold 5: \n",
            "For testing, got RMSE= 0.060029 for fold 5: \n",
            "\n"
          ],
          "name": "stdout"
        }
      ]
    },
    {
      "cell_type": "code",
      "metadata": {
        "id": "NW3T7DcVhPvM",
        "outputId": "0352c447-a5c3-4131-de76-5f43dc6c7216",
        "colab": {
          "base_uri": "https://localhost:8080/",
          "height": 34
        }
      },
      "source": [
        "# generate the errors analysis\n",
        "analysis_multi_linear_val = generate_analysis(errors_multi_linear_val)\n",
        "analysis_multi_linear_train = generate_analysis(errors_multi_linear_train)\n",
        "\n",
        "least_multi = get_best_param(analysis_multi_linear_val,1.1)\n",
        "print(least_multi)\n"
      ],
      "execution_count": 22,
      "outputs": [
        {
          "output_type": "stream",
          "text": [
            "('AT', 'V', 'RH', 'AP')\n"
          ],
          "name": "stdout"
        }
      ]
    },
    {
      "cell_type": "code",
      "metadata": {
        "id": "fXBznpqGyxvY"
      },
      "source": [
        "# a function to take a tuple and convert it to a string\n",
        "def convertTuple(tup): \n",
        "    str =  ''\n",
        "    for el in tup:\n",
        "      str += el+' '\n",
        "    return str"
      ],
      "execution_count": 23,
      "outputs": []
    },
    {
      "cell_type": "code",
      "metadata": {
        "id": "8xCwvRlTxAFc",
        "outputId": "1d913f5d-87b1-4727-fd3c-b63e1da8ad14",
        "colab": {
          "base_uri": "https://localhost:8080/",
          "height": 670
        }
      },
      "source": [
        "x_values_val = []\n",
        "y_values_val = []\n",
        "x_values_test = []\n",
        "y_values_test = []\n",
        "\n",
        "\n",
        "# plot the raw observations\n",
        "for idx in indeces:\n",
        "  if idx != least_multi:\n",
        "    x_values_val.append(convertTuple(idx))\n",
        "    y_values_val.append(analysis_multi_linear_val[idx][0])\n",
        "    x_values_test.append(convertTuple(idx))\n",
        "    y_values_test.append(analysis_multi_linear_train[idx][0])\n",
        "\n",
        "fig, ax = plt.subplots(figsize=(10, 10))\n",
        "ax.scatter(x_values_val, y_values_val, label='validation')\n",
        "ax.scatter(x_values_test, y_values_test, label = 'training')\n",
        "plt.setp(ax.get_xticklabels(), rotation = 90)\n",
        "\n",
        "ax.scatter([convertTuple(least_multi)]*2, [analysis_multi_linear_val[least_multi][0], analysis_multi_linear_train[least_multi][0]], label='best degree', s = 50)\n",
        "\n",
        "# plot the trend line with error bars that correspond to standard deviation\n",
        "Mean_val = np.array([np.mean(value) for deg,value in errors_multi_linear_val.items()])\n",
        "Mean_train = np.array([np.mean(value) for deg,value in errors_multi_linear_train.items()])\n",
        "\n",
        "ax.errorbar(list(range(len(indeces))), Mean_val)\n",
        "ax.errorbar(list(range(len(indeces))), Mean_train)\n",
        "\n",
        "plt.title('RMSE for each subset')\n",
        "plt.xlabel('Subset')\n",
        "plt.ylabel('RMSE')\n",
        "plt.legend()\n",
        "plt.show()"
      ],
      "execution_count": 24,
      "outputs": [
        {
          "output_type": "display_data",
          "data": {
            "image/png": "[encoded data removed]",
            "text/plain": [
              "<Figure size 720x720 with 1 Axes>"
            ]
          },
          "metadata": {
            "tags": [],
            "needs_background": "light"
          }
        }
      ]
    },
    {
      "cell_type": "code",
      "metadata": {
        "id": "2H52KbNqGMBu",
        "outputId": "23ca6f95-7a09-4953-a727-34468ea49ccc",
        "colab": {
          "base_uri": "https://localhost:8080/",
          "height": 1000
        }
      },
      "source": [
        "#compare the effect of changing the degrees on the predicts but with all features\n",
        "errors_multi_poly_val = {}\n",
        "errors_multi_poly_train = {}\n",
        "max_deg = 10\n",
        "#load the data\n",
        "X_data = training_data_x[['AT', 'V', 'RH', 'AP']].to_numpy()\n",
        "Y_data = training_data_x['PE'].to_numpy()\n",
        "X_train = cp.array(X_data)\n",
        "Y_train = cp.array(Y_data)\n",
        "#normalize the data\n",
        "X_train = (X_train-cp.min(X_train, axis=0))/(cp.max(X_train, axis=0)-cp.min(X_train, axis=0))\n",
        "Y_train = (Y_train-cp.min(Y_train))/(cp.max(Y_train)-cp.min(Y_train))\n",
        "#prepare the 5 folds\n",
        "folds = 5\n",
        "fold_size = int(X_train.shape[0]/folds)\n",
        "X_train_folded = []\n",
        "Y_train_folded = []\n",
        "for x in range(5):\n",
        "    X_train_folded.append(X_train[fold_size*x:fold_size*(x+1)])\n",
        "    Y_train_folded.append(Y_train[fold_size*x:fold_size*(x+1)])\n",
        "    \n",
        "X_train_folded = cp.asarray(X_train_folded)\n",
        "Y_train_folded = cp.asarray(Y_train_folded)\n",
        "#compute all degrees up to 20\n",
        "for deg in range(1,max_deg+1):\n",
        "\n",
        "  errors_multi_poly_val[deg] = []\n",
        "  errors_multi_poly_train[deg] = []\n",
        "  for f in range(5):\n",
        "    x_train_model = np.concatenate( [X_train_folded[i] for i in range(5) if (i != f) ])\n",
        "    y_train_model = np.concatenate( [Y_train_folded[i] for i in range(5) if (i != f)] )\n",
        "    \n",
        "    x_val_model = np.concatenate( [X_train_folded[i] for i in range(5) if (i == f) ])\n",
        "    y_val_model = np.concatenate( [Y_train_folded[i] for i in range(5) if (i == f)] )\n",
        "    # generate the weights \n",
        "    weights = train(x_train_model, y_train_model,deg, 0.5) # L1 is used with paramater lambda = 0.5\n",
        "    weights = cp.array(weights)\n",
        "    print(x_val_model.shape, weights.shape)\n",
        "    pred_val = predict(x_val_model, weights,deg)\n",
        "    pred_train = predict(x_train_model, weights,deg)\n",
        "\n",
        "    err_val = RMSE(y_val_model, pred_val, y_val_model.shape[0])\n",
        "    err_train = RMSE(y_train_model, pred_train, y_train_model.shape[0])\n",
        "    errors_multi_poly_val[deg].append(cp.asnumpy(err_val))\n",
        "    errors_multi_poly_train[deg].append(cp.asnumpy(err_train))\n",
        "    print ('For validation, got RMSE= %f for degree %d and fold %d: ' % ( err_val, deg, f+1))\n",
        "    print ('For testing, got RMSE= %f for degree %d and fold %d: \\n' % ( err_train, deg, f+1))"
      ],
      "execution_count": 26,
      "outputs": [
        {
          "output_type": "stream",
          "text": [
            "(1913, 4) (5,)\n",
            "For validation, got RMSE= 0.059167 for degree 1 and fold 1: \n",
            "For testing, got RMSE= 0.060682 for degree 1 and fold 1: \n",
            "\n",
            "(1913, 4) (5,)\n",
            "For validation, got RMSE= 0.061180 for degree 1 and fold 2: \n",
            "For testing, got RMSE= 0.060168 for degree 1 and fold 2: \n",
            "\n",
            "(1913, 4) (5,)\n",
            "For validation, got RMSE= 0.058766 for degree 1 and fold 3: \n",
            "For testing, got RMSE= 0.060785 for degree 1 and fold 3: \n",
            "\n",
            "(1913, 4) (5,)\n",
            "For validation, got RMSE= 0.061186 for degree 1 and fold 4: \n",
            "For testing, got RMSE= 0.060159 for degree 1 and fold 4: \n",
            "\n",
            "(1913, 4) (5,)\n",
            "For validation, got RMSE= 0.061687 for degree 1 and fold 5: \n",
            "For testing, got RMSE= 0.060029 for degree 1 and fold 5: \n",
            "\n",
            "(1913, 4) (15,)\n",
            "For validation, got RMSE= 0.055783 for degree 2 and fold 1: \n",
            "For testing, got RMSE= 0.056683 for degree 2 and fold 1: \n",
            "\n",
            "(1913, 4) (15,)\n",
            "For validation, got RMSE= 0.056800 for degree 2 and fold 2: \n",
            "For testing, got RMSE= 0.056430 for degree 2 and fold 2: \n",
            "\n",
            "(1913, 4) (15,)\n",
            "For validation, got RMSE= 0.054840 for degree 2 and fold 3: \n",
            "For testing, got RMSE= 0.056910 for degree 2 and fold 3: \n",
            "\n",
            "(1913, 4) (15,)\n",
            "For validation, got RMSE= 0.057455 for degree 2 and fold 4: \n",
            "For testing, got RMSE= 0.056266 for degree 2 and fold 4: \n",
            "\n",
            "(1913, 4) (15,)\n",
            "For validation, got RMSE= 0.057982 for degree 2 and fold 5: \n",
            "For testing, got RMSE= 0.056136 for degree 2 and fold 5: \n",
            "\n",
            "(1913, 4) (35,)\n",
            "For validation, got RMSE= 0.055017 for degree 3 and fold 1: \n",
            "For testing, got RMSE= 0.055889 for degree 3 and fold 1: \n",
            "\n",
            "(1913, 4) (35,)\n",
            "For validation, got RMSE= 0.056133 for degree 3 and fold 2: \n",
            "For testing, got RMSE= 0.055575 for degree 3 and fold 2: \n",
            "\n",
            "(1913, 4) (35,)\n",
            "For validation, got RMSE= 0.054223 for degree 3 and fold 3: \n",
            "For testing, got RMSE= 0.056079 for degree 3 and fold 3: \n",
            "\n",
            "(1913, 4) (35,)\n",
            "For validation, got RMSE= 0.056353 for degree 3 and fold 4: \n",
            "For testing, got RMSE= 0.055572 for degree 3 and fold 4: \n",
            "\n",
            "(1913, 4) (35,)\n",
            "For validation, got RMSE= 0.057260 for degree 3 and fold 5: \n",
            "For testing, got RMSE= 0.055322 for degree 3 and fold 5: \n",
            "\n",
            "(1913, 4) (70,)\n",
            "For validation, got RMSE= 0.054740 for degree 4 and fold 1: \n",
            "For testing, got RMSE= 0.055528 for degree 4 and fold 1: \n",
            "\n",
            "(1913, 4) (70,)\n",
            "For validation, got RMSE= 0.055917 for degree 4 and fold 2: \n",
            "For testing, got RMSE= 0.055206 for degree 4 and fold 2: \n",
            "\n",
            "(1913, 4) (70,)\n",
            "For validation, got RMSE= 0.053954 for degree 4 and fold 3: \n",
            "For testing, got RMSE= 0.055741 for degree 4 and fold 3: \n",
            "\n",
            "(1913, 4) (70,)\n",
            "For validation, got RMSE= 0.055883 for degree 4 and fold 4: \n",
            "For testing, got RMSE= 0.055250 for degree 4 and fold 4: \n",
            "\n",
            "(1913, 4) (70,)\n",
            "For validation, got RMSE= 0.056890 for degree 4 and fold 5: \n",
            "For testing, got RMSE= 0.055004 for degree 4 and fold 5: \n",
            "\n",
            "(1913, 4) (126,)\n",
            "For validation, got RMSE= 0.054576 for degree 5 and fold 1: \n",
            "For testing, got RMSE= 0.055277 for degree 5 and fold 1: \n",
            "\n",
            "(1913, 4) (126,)\n",
            "For validation, got RMSE= 0.055796 for degree 5 and fold 2: \n",
            "For testing, got RMSE= 0.054953 for degree 5 and fold 2: \n",
            "\n",
            "(1913, 4) (126,)\n",
            "For validation, got RMSE= 0.053715 for degree 5 and fold 3: \n",
            "For testing, got RMSE= 0.055522 for degree 5 and fold 3: \n",
            "\n",
            "(1913, 4) (126,)\n",
            "For validation, got RMSE= 0.055600 for degree 5 and fold 4: \n",
            "For testing, got RMSE= 0.055029 for degree 5 and fold 4: \n",
            "\n",
            "(1913, 4) (126,)\n",
            "For validation, got RMSE= 0.056630 for degree 5 and fold 5: \n",
            "For testing, got RMSE= 0.054774 for degree 5 and fold 5: \n",
            "\n",
            "(1913, 4) (210,)\n",
            "For validation, got RMSE= 0.054475 for degree 6 and fold 1: \n",
            "For testing, got RMSE= 0.055109 for degree 6 and fold 1: \n",
            "\n",
            "(1913, 4) (210,)\n",
            "For validation, got RMSE= 0.055722 for degree 6 and fold 2: \n",
            "For testing, got RMSE= 0.054791 for degree 6 and fold 2: \n",
            "\n",
            "(1913, 4) (210,)\n",
            "For validation, got RMSE= 0.053535 for degree 6 and fold 3: \n",
            "For testing, got RMSE= 0.055375 for degree 6 and fold 3: \n",
            "\n",
            "(1913, 4) (210,)\n",
            "For validation, got RMSE= 0.055415 for degree 6 and fold 4: \n",
            "For testing, got RMSE= 0.054883 for degree 6 and fold 4: \n",
            "\n",
            "(1913, 4) (210,)\n",
            "For validation, got RMSE= 0.056479 for degree 6 and fold 5: \n",
            "For testing, got RMSE= 0.054607 for degree 6 and fold 5: \n",
            "\n",
            "(1913, 4) (330,)\n",
            "For validation, got RMSE= 0.054392 for degree 7 and fold 1: \n",
            "For testing, got RMSE= 0.054979 for degree 7 and fold 1: \n",
            "\n",
            "(1913, 4) (330,)\n",
            "For validation, got RMSE= 0.055648 for degree 7 and fold 2: \n",
            "For testing, got RMSE= 0.054671 for degree 7 and fold 2: \n",
            "\n",
            "(1913, 4) (330,)\n",
            "For validation, got RMSE= 0.053403 for degree 7 and fold 3: \n",
            "For testing, got RMSE= 0.055254 for degree 7 and fold 3: \n",
            "\n",
            "(1913, 4) (330,)\n",
            "For validation, got RMSE= 0.055276 for degree 7 and fold 4: \n",
            "For testing, got RMSE= 0.054771 for degree 7 and fold 4: \n",
            "\n",
            "(1913, 4) (330,)\n",
            "For validation, got RMSE= 0.056379 for degree 7 and fold 5: \n",
            "For testing, got RMSE= 0.054476 for degree 7 and fold 5: \n",
            "\n",
            "(1913, 4) (495,)\n",
            "For validation, got RMSE= 0.054319 for degree 8 and fold 1: \n",
            "For testing, got RMSE= 0.054871 for degree 8 and fold 1: \n",
            "\n",
            "(1913, 4) (495,)\n",
            "For validation, got RMSE= 0.055570 for degree 8 and fold 2: \n",
            "For testing, got RMSE= 0.054572 for degree 8 and fold 2: \n",
            "\n",
            "(1913, 4) (495,)\n",
            "For validation, got RMSE= 0.053311 for degree 8 and fold 3: \n",
            "For testing, got RMSE= 0.055148 for degree 8 and fold 3: \n",
            "\n",
            "(1913, 4) (495,)\n",
            "For validation, got RMSE= 0.055161 for degree 8 and fold 4: \n",
            "For testing, got RMSE= 0.054676 for degree 8 and fold 4: \n",
            "\n",
            "(1913, 4) (495,)\n",
            "For validation, got RMSE= 0.056299 for degree 8 and fold 5: \n",
            "For testing, got RMSE= 0.054367 for degree 8 and fold 5: \n",
            "\n",
            "(1913, 4) (715,)\n",
            "For validation, got RMSE= 0.054258 for degree 9 and fold 1: \n",
            "For testing, got RMSE= 0.054783 for degree 9 and fold 1: \n",
            "\n",
            "(1913, 4) (715,)\n",
            "For validation, got RMSE= 0.055499 for degree 9 and fold 2: \n",
            "For testing, got RMSE= 0.054492 for degree 9 and fold 2: \n",
            "\n",
            "(1913, 4) (715,)\n",
            "For validation, got RMSE= 0.053256 for degree 9 and fold 3: \n",
            "For testing, got RMSE= 0.055058 for degree 9 and fold 3: \n",
            "\n",
            "(1913, 4) (715,)\n",
            "For validation, got RMSE= 0.055070 for degree 9 and fold 4: \n",
            "For testing, got RMSE= 0.054598 for degree 9 and fold 4: \n",
            "\n",
            "(1913, 4) (715,)\n",
            "For validation, got RMSE= 0.056235 for degree 9 and fold 5: \n",
            "For testing, got RMSE= 0.054283 for degree 9 and fold 5: \n",
            "\n",
            "(1913, 4) (1001,)\n",
            "For validation, got RMSE= 0.054212 for degree 10 and fold 1: \n",
            "For testing, got RMSE= 0.054717 for degree 10 and fold 1: \n",
            "\n",
            "(1913, 4) (1001,)\n",
            "For validation, got RMSE= 0.055441 for degree 10 and fold 2: \n",
            "For testing, got RMSE= 0.054430 for degree 10 and fold 2: \n",
            "\n",
            "(1913, 4) (1001,)\n",
            "For validation, got RMSE= 0.053229 for degree 10 and fold 3: \n",
            "For testing, got RMSE= 0.054989 for degree 10 and fold 3: \n",
            "\n",
            "(1913, 4) (1001,)\n",
            "For validation, got RMSE= 0.055004 for degree 10 and fold 4: \n",
            "For testing, got RMSE= 0.054537 for degree 10 and fold 4: \n",
            "\n",
            "(1913, 4) (1001,)\n",
            "For validation, got RMSE= 0.056185 for degree 10 and fold 5: \n",
            "For testing, got RMSE= 0.054221 for degree 10 and fold 5: \n",
            "\n"
          ],
          "name": "stdout"
        }
      ]
    },
    {
      "cell_type": "code",
      "metadata": {
        "id": "W5wS-PV2zlYo",
        "outputId": "d22f96e6-7c6f-4d07-e634-bc745d1257e3",
        "colab": {
          "base_uri": "https://localhost:8080/",
          "height": 34
        }
      },
      "source": [
        "# generate the needed analysis for the errors\n",
        "analysis_multi_poly_val = generate_analysis(errors_multi_poly_val)\n",
        "analysis_multi_poly_train = generate_analysis(errors_multi_poly_train)\n",
        "\n",
        "least_poly = get_best_param(analysis_multi_poly_val,1.1)\n",
        "print(least_poly)\n"
      ],
      "execution_count": 27,
      "outputs": [
        {
          "output_type": "stream",
          "text": [
            "10\n"
          ],
          "name": "stdout"
        }
      ]
    },
    {
      "cell_type": "code",
      "metadata": {
        "id": "6SY-5LaKS0w8",
        "outputId": "92cec79c-7bba-47ee-8edd-7e3850dcb3a5",
        "colab": {
          "base_uri": "https://localhost:8080/",
          "height": 187
        }
      },
      "source": [
        "analysis_multi_poly_val"
      ],
      "execution_count": 28,
      "outputs": [
        {
          "output_type": "execute_result",
          "data": {
            "text/plain": [
              "{1: (0.060397289956604636, 0.0011892804214704688),\n",
              " 2: (0.0565720969486803, 0.0011350435152276041),\n",
              " 3: (0.055797386192343465, 0.0010627689054077294),\n",
              " 4: (0.05547690153617475, 0.0010217483036098786),\n",
              " 5: (0.05526341201888109, 0.0010134604304822242),\n",
              " 6: (0.05512502053027253, 0.0010222855125605675),\n",
              " 7: (0.05501961985166972, 0.0010309312822403625),\n",
              " 8: (0.054932057204781115, 0.0010326658721695272),\n",
              " 9: (0.054863526558295295, 0.0010276428901072818),\n",
              " 10: (0.05481431063140352, 0.001018077654043386)}"
            ]
          },
          "metadata": {
            "tags": []
          },
          "execution_count": 28
        }
      ]
    },
    {
      "cell_type": "code",
      "metadata": {
        "id": "LVDL6oTrQLJ9",
        "outputId": "93079d14-7283-4554-9935-57438a37088f",
        "colab": {
          "base_uri": "https://localhost:8080/",
          "height": 295
        }
      },
      "source": [
        "x_values_val = []\n",
        "y_values_val = []\n",
        "x_values_test = []\n",
        "y_values_test = []\n",
        "\n",
        "# plot the raw observations\n",
        "for deg in range(1,max_deg+1):\n",
        "  if deg != best_deg:\n",
        "    x_values_val.append(deg)\n",
        "    y_values_val.append(analysis_multi_poly_val[deg][0])\n",
        "    x_values_test.append(deg)\n",
        "    y_values_test.append(analysis_multi_poly_train[deg][0])\n",
        "\n",
        "plt.scatter(x_values_val, y_values_val, label='validation')\n",
        "plt.scatter(x_values_test, y_values_test, label='training')\n",
        "plt.scatter([least_poly]*2, [analysis_multi_poly_val[least_poly][0], analysis_multi_poly_train[least_poly][0]], label='best degree', s = 50)\n",
        "\n",
        "# plot the trend line with error bars that correspond to standard deviation\n",
        "Mean_val = np.array([np.mean(value) for deg,value in sorted(errors_multi_poly_val.items())])\n",
        "Mean_train = np.array([np.mean(value) for deg,value in sorted(errors_multi_poly_train.items())])\n",
        "\n",
        "plt.errorbar(list(range(1,max_deg+1)), Mean_val)\n",
        "plt.errorbar(list(range(1,max_deg+1)), Mean_train)\n",
        "\n",
        "plt.title('5 Cross Validation for each degree')\n",
        "plt.xlabel('Degrees')\n",
        "plt.ylabel('RMSE')\n",
        "plt.legend()\n",
        "plt.show()"
      ],
      "execution_count": 29,
      "outputs": [
        {
          "output_type": "display_data",
          "data": {
            "image/png": "[encoded data removed]",
            "text/plain": [
              "<Figure size 432x288 with 1 Axes>"
            ]
          },
          "metadata": {
            "tags": [],
            "needs_background": "light"
          }
        }
      ]
    },
    {
      "cell_type": "code",
      "metadata": {
        "id": "gz6vOj-5Qcin"
      },
      "source": [
        ""
      ],
      "execution_count": 29,
      "outputs": []
    }
  ]
}